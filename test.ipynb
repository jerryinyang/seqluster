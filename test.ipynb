{
 "cells": [
  {
   "cell_type": "code",
   "execution_count": 9,
   "metadata": {},
   "outputs": [],
   "source": [
    "import pandas as pd\n",
    "import numpy as np # noqa\n",
    "import matplotlib.pyplot as plt\n",
    "\n",
    "import dtaidistance as dtai\n",
    "\n",
    "from dtaidistance import dtw"
   ]
  },
  {
   "cell_type": "code",
   "execution_count": 10,
   "metadata": {},
   "outputs": [],
   "source": [
    "raw_data = pd.read_csv(\"/Users/jerryinyang/Code/seqluster/data.csv\")\n",
    "data = raw_data[['x', 'y']].to_numpy()"
   ]
  },
  {
   "cell_type": "code",
   "execution_count": 11,
   "metadata": {},
   "outputs": [],
   "source": [
    "\n",
    "matrix = dtw.distance_matrix_fast(data)"
   ]
  },
  {
   "cell_type": "code",
   "execution_count": 37,
   "metadata": {},
   "outputs": [
    {
     "data": {
      "text/plain": [
       "array([[0.12816714],\n",
       "       [0.68864706],\n",
       "       [0.45113896],\n",
       "       [0.673345  ],\n",
       "       [0.697541  ],\n",
       "       [0.13574342],\n",
       "       [0.7361544 ],\n",
       "       [0.74032573],\n",
       "       [0.63622359],\n",
       "       [0.03361439]])"
      ]
     },
     "execution_count": 37,
     "metadata": {},
     "output_type": "execute_result"
    }
   ],
   "source": [
    "arr = np.random.rand(10, 1)\n",
    "arr"
   ]
  },
  {
   "cell_type": "code",
   "execution_count": 38,
   "metadata": {},
   "outputs": [
    {
     "data": {
      "text/plain": [
       "array([[0.        , 0.56047992, 0.32297182, 0.54517786, 0.56937386,\n",
       "        0.00757628, 0.60798726, 0.61215859, 0.50805645, 0.09455275],\n",
       "       [0.56047992, 0.        , 0.2375081 , 0.01530206, 0.00889394,\n",
       "        0.55290364, 0.04750734, 0.05167868, 0.05242347, 0.65503267],\n",
       "       [0.32297182, 0.2375081 , 0.        , 0.22220604, 0.24640205,\n",
       "        0.31539553, 0.28501544, 0.28918678, 0.18508463, 0.41752457],\n",
       "       [0.54517786, 0.01530206, 0.22220604, 0.        , 0.024196  ,\n",
       "        0.53760158, 0.06280939, 0.06698073, 0.03712141, 0.63973061],\n",
       "       [0.56937386, 0.00889394, 0.24640205, 0.024196  , 0.        ,\n",
       "        0.56179758, 0.03861339, 0.04278473, 0.06131742, 0.66392661],\n",
       "       [0.00757628, 0.55290364, 0.31539553, 0.53760158, 0.56179758,\n",
       "        0.        , 0.60041097, 0.60458231, 0.50048016, 0.10212903],\n",
       "       [0.60798726, 0.04750734, 0.28501544, 0.06280939, 0.03861339,\n",
       "        0.60041097, 0.        , 0.00417134, 0.09993081, 0.70254001],\n",
       "       [0.61215859, 0.05167868, 0.28918678, 0.06698073, 0.04278473,\n",
       "        0.60458231, 0.00417134, 0.        , 0.10410215, 0.70671134],\n",
       "       [0.50805645, 0.05242347, 0.18508463, 0.03712141, 0.06131742,\n",
       "        0.50048016, 0.09993081, 0.10410215, 0.        , 0.6026092 ],\n",
       "       [0.09455275, 0.65503267, 0.41752457, 0.63973061, 0.66392661,\n",
       "        0.10212903, 0.70254001, 0.70671134, 0.6026092 , 0.        ]])"
      ]
     },
     "execution_count": 38,
     "metadata": {},
     "output_type": "execute_result"
    }
   ],
   "source": [
    "dtw.distance_matrix(np.atleast_2d(arr))"
   ]
  },
  {
   "cell_type": "code",
   "execution_count": 10,
   "metadata": {},
   "outputs": [
    {
     "name": "stdout",
     "output_type": "stream",
     "text": [
      "Good\n"
     ]
    }
   ],
   "source": [
    "assert 2 == 2\n",
    "\n",
    "print('Good')"
   ]
  },
  {
   "cell_type": "code",
   "execution_count": 21,
   "metadata": {},
   "outputs": [],
   "source": [
    "x = np.array([1,1,1,2,2,2,3,3,3,3,4,5])"
   ]
  }
 ],
 "metadata": {
  "kernelspec": {
   "display_name": "venv",
   "language": "python",
   "name": "python3"
  },
  "language_info": {
   "codemirror_mode": {
    "name": "ipython",
    "version": 3
   },
   "file_extension": ".py",
   "mimetype": "text/x-python",
   "name": "python",
   "nbconvert_exporter": "python",
   "pygments_lexer": "ipython3",
   "version": "3.10.9"
  }
 },
 "nbformat": 4,
 "nbformat_minor": 2
}
