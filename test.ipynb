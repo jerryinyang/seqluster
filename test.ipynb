{
 "cells": [
  {
   "cell_type": "code",
   "execution_count": 2,
   "metadata": {},
   "outputs": [],
   "source": [
    "import pandas as pd\n",
    "import numpy as np # noqa\n",
    "import matplotlib.pyplot as plt\n",
    "\n",
    "import dtaidistance as dtai\n",
    "\n",
    "from dtaidistance import dtw"
   ]
  },
  {
   "cell_type": "code",
   "execution_count": 3,
   "metadata": {},
   "outputs": [],
   "source": [
    "raw_data = pd.read_csv(\"/Users/jerryinyang/Code/seqluster/data.csv\")\n",
    "data = raw_data[['x', 'y']].to_numpy()"
   ]
  },
  {
   "cell_type": "code",
   "execution_count": 4,
   "metadata": {},
   "outputs": [],
   "source": [
    "\n",
    "matrix = dtw.distance_matrix_fast(data)"
   ]
  },
  {
   "cell_type": "code",
   "execution_count": 5,
   "metadata": {},
   "outputs": [
    {
     "data": {
      "text/plain": [
       "array([[0.27583552],\n",
       "       [0.84766465],\n",
       "       [0.87227128],\n",
       "       [0.31423198],\n",
       "       [0.06575156],\n",
       "       [0.62611373],\n",
       "       [0.84974807],\n",
       "       [0.44459075],\n",
       "       [0.40266992],\n",
       "       [0.55350134]])"
      ]
     },
     "execution_count": 5,
     "metadata": {},
     "output_type": "execute_result"
    }
   ],
   "source": [
    "arr = np.random.rand(10, 1)\n",
    "arr"
   ]
  },
  {
   "cell_type": "code",
   "execution_count": 6,
   "metadata": {},
   "outputs": [
    {
     "data": {
      "text/plain": [
       "array([[0.        , 0.57182913, 0.59643576, 0.03839646, 0.21008396,\n",
       "        0.35027821, 0.57391255, 0.16875523, 0.1268344 , 0.27766581],\n",
       "       [0.57182913, 0.        , 0.02460663, 0.53343267, 0.78191308,\n",
       "        0.22155092, 0.00208342, 0.4030739 , 0.44499473, 0.29416331],\n",
       "       [0.59643576, 0.02460663, 0.        , 0.5580393 , 0.80651972,\n",
       "        0.24615755, 0.02252321, 0.42768053, 0.46960136, 0.31876995],\n",
       "       [0.03839646, 0.53343267, 0.5580393 , 0.        , 0.24848042,\n",
       "        0.31188175, 0.53551609, 0.13035877, 0.08843794, 0.23926936],\n",
       "       [0.21008396, 0.78191308, 0.80651972, 0.24848042, 0.        ,\n",
       "        0.56036216, 0.78399651, 0.37883918, 0.33691836, 0.48774977],\n",
       "       [0.35027821, 0.22155092, 0.24615755, 0.31188175, 0.56036216,\n",
       "        0.        , 0.22363434, 0.18152298, 0.22344381, 0.07261239],\n",
       "       [0.57391255, 0.00208342, 0.02252321, 0.53551609, 0.78399651,\n",
       "        0.22363434, 0.        , 0.40515732, 0.44707815, 0.29624674],\n",
       "       [0.16875523, 0.4030739 , 0.42768053, 0.13035877, 0.37883918,\n",
       "        0.18152298, 0.40515732, 0.        , 0.04192083, 0.10891059],\n",
       "       [0.1268344 , 0.44499473, 0.46960136, 0.08843794, 0.33691836,\n",
       "        0.22344381, 0.44707815, 0.04192083, 0.        , 0.15083142],\n",
       "       [0.27766581, 0.29416331, 0.31876995, 0.23926936, 0.48774977,\n",
       "        0.07261239, 0.29624674, 0.10891059, 0.15083142, 0.        ]])"
      ]
     },
     "execution_count": 6,
     "metadata": {},
     "output_type": "execute_result"
    }
   ],
   "source": [
    "dtw.distance_matrix(np.atleast_2d(arr))"
   ]
  },
  {
   "cell_type": "code",
   "execution_count": 36,
   "metadata": {},
   "outputs": [],
   "source": []
  },
  {
   "cell_type": "code",
   "execution_count": 42,
   "metadata": {},
   "outputs": [
    {
     "name": "stdout",
     "output_type": "stream",
     "text": [
      "687 ns ± 2.02 ns per loop (mean ± std. dev. of 7 runs, 1,000,000 loops each)\n"
     ]
    }
   ],
   "source": [
    "A = np.random.randint(0, 9, (10, 2))\n",
    "B = np.random.randint(0, 9, 10)\n",
    "\n",
    "# Method 1\n",
    "A * B[:, np.newaxis]\n",
    "\n",
    "# Method 2\n",
    "np.array([A[label] * B[label] for label in range(len(A))])"
   ]
  },
  {
   "cell_type": "code",
   "execution_count": 56,
   "metadata": {},
   "outputs": [
    {
     "data": {
      "text/plain": [
       "array([ 0.00260966,  0.02298555, -0.24445941, -0.08171585])"
      ]
     },
     "execution_count": 56,
     "metadata": {},
     "output_type": "execute_result"
    }
   ],
   "source": [
    "np.array([71.1295263, 55.62708035, 66.8515569, 71.02214688]) - np.array([71.12691664, 55.6040948, 67.09601631, 71.10386273])"
   ]
  },
  {
   "cell_type": "code",
   "execution_count": 58,
   "metadata": {},
   "outputs": [
    {
     "data": {
      "text/plain": [
       "array([ 0.0002435 ,  0.00213368, -0.02280405, -0.0076667 ])"
      ]
     },
     "execution_count": 58,
     "metadata": {},
     "output_type": "execute_result"
    }
   ],
   "source": [
    "np.array([71.1295263, 55.62708035, 66.8515569 , 71.02214688]) - np.array([71.1292828, 55.62494667, 66.87436095, 71.02981358])"
   ]
  },
  {
   "cell_type": "code",
   "execution_count": 60,
   "metadata": {},
   "outputs": [
    {
     "ename": "TypeError",
     "evalue": "'<' not supported between instances of 'list' and 'int'",
     "output_type": "error",
     "traceback": [
      "\u001b[0;31m---------------------------------------------------------------------------\u001b[0m",
      "\u001b[0;31mTypeError\u001b[0m                                 Traceback (most recent call last)",
      "Cell \u001b[0;32mIn[60], line 1\u001b[0m\n\u001b[0;32m----> 1\u001b[0m \u001b[43mnp\u001b[49m\u001b[38;5;241;43m.\u001b[39;49m\u001b[43mdiff\u001b[49m\u001b[43m(\u001b[49m\u001b[43m[\u001b[49m\u001b[38;5;241;43m2\u001b[39;49m\u001b[43m]\u001b[49m\u001b[43m,\u001b[49m\u001b[43m \u001b[49m\u001b[43m[\u001b[49m\u001b[38;5;241;43m2\u001b[39;49m\u001b[43m]\u001b[49m\u001b[43m)\u001b[49m\n",
      "File \u001b[0;32m~/Code/seqluster/venv/lib/python3.10/site-packages/numpy/lib/function_base.py:1411\u001b[0m, in \u001b[0;36mdiff\u001b[0;34m(a, n, axis, prepend, append)\u001b[0m\n\u001b[1;32m   1409\u001b[0m \u001b[38;5;28;01mif\u001b[39;00m n \u001b[38;5;241m==\u001b[39m \u001b[38;5;241m0\u001b[39m:\n\u001b[1;32m   1410\u001b[0m     \u001b[38;5;28;01mreturn\u001b[39;00m a\n\u001b[0;32m-> 1411\u001b[0m \u001b[38;5;28;01mif\u001b[39;00m \u001b[43mn\u001b[49m\u001b[43m \u001b[49m\u001b[38;5;241;43m<\u001b[39;49m\u001b[43m \u001b[49m\u001b[38;5;241;43m0\u001b[39;49m:\n\u001b[1;32m   1412\u001b[0m     \u001b[38;5;28;01mraise\u001b[39;00m \u001b[38;5;167;01mValueError\u001b[39;00m(\n\u001b[1;32m   1413\u001b[0m         \u001b[38;5;124m\"\u001b[39m\u001b[38;5;124morder must be non-negative but got \u001b[39m\u001b[38;5;124m\"\u001b[39m \u001b[38;5;241m+\u001b[39m \u001b[38;5;28mrepr\u001b[39m(n))\n\u001b[1;32m   1415\u001b[0m a \u001b[38;5;241m=\u001b[39m asanyarray(a)\n",
      "\u001b[0;31mTypeError\u001b[0m: '<' not supported between instances of 'list' and 'int'"
     ]
    }
   ],
   "source": []
  },
  {
   "cell_type": "code",
   "execution_count": null,
   "metadata": {},
   "outputs": [],
   "source": []
  }
 ],
 "metadata": {
  "kernelspec": {
   "display_name": "venv",
   "language": "python",
   "name": "python3"
  },
  "language_info": {
   "codemirror_mode": {
    "name": "ipython",
    "version": 3
   },
   "file_extension": ".py",
   "mimetype": "text/x-python",
   "name": "python",
   "nbconvert_exporter": "python",
   "pygments_lexer": "ipython3",
   "version": "3.10.9"
  }
 },
 "nbformat": 4,
 "nbformat_minor": 2
}
